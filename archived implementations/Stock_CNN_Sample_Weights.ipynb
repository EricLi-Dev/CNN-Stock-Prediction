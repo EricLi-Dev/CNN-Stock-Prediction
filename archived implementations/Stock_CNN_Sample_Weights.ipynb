{
  "cells": [
    {
      "cell_type": "code",
      "execution_count": null,
      "metadata": {
        "colab": {
          "base_uri": "https://localhost:8080/"
        },
        "id": "lw_NyIyJlDmr",
        "outputId": "c3009457-81fd-455e-812a-7fd7f8980d34"
      },
      "outputs": [
        {
          "output_type": "stream",
          "name": "stdout",
          "text": [
            "Drive already mounted at /content/drive; to attempt to forcibly remount, call drive.mount(\"/content/drive\", force_remount=True).\n"
          ]
        }
      ],
      "source": [
        "from google.colab import drive\n",
        "drive.mount('/content/drive')"
      ]
    },
    {
      "cell_type": "code",
      "execution_count": null,
      "metadata": {
        "colab": {
          "base_uri": "https://localhost:8080/"
        },
        "id": "D5DQPqWulGhr",
        "outputId": "f1fc0a17-5c99-4394-9b13-8b2a2430dc06"
      },
      "outputs": [
        {
          "output_type": "stream",
          "name": "stdout",
          "text": [
            "[Errno 2] No such file or directory: 'drive/MyDrive/CNN Stock Prediction'\n",
            "/content/drive/.shortcut-targets-by-id/11M8JhuGjMeTkxBAoI1sL3lLEa69ylHrV/CNN Stock Prediction\n"
          ]
        }
      ],
      "source": [
        "%cd \"drive/MyDrive/CNN Stock Prediction\""
      ]
    },
    {
      "cell_type": "markdown",
      "metadata": {
        "id": "VxoEj8NDksX_"
      },
      "source": [
        "#Setup Data with Best Features"
      ]
    },
    {
      "cell_type": "code",
      "execution_count": null,
      "metadata": {
        "colab": {
          "base_uri": "https://localhost:8080/",
          "height": 256
        },
        "id": "dEqbjInzl4sF",
        "outputId": "b7074637-bff8-464a-80f4-d7a913bba1fc"
      },
      "outputs": [
        {
          "output_type": "execute_result",
          "data": {
            "text/plain": [
              "    Label   RSI_ta_6   RSI_ta_7   RSI_ta_8   RSI_ta_9  RSI_ta_10  RSI_ta_11  \\\n",
              "59      0  10.900907  13.984287  16.808864  19.335721  21.561469  23.502503   \n",
              "60      1   6.896011   9.373318  11.775636  14.029307  16.097933  17.969272   \n",
              "61      0  12.323443  14.017505  15.820532  17.601332  19.288652  20.847486   \n",
              "62      0  17.397102  18.306041  19.523081  20.849862  22.176042  23.441957   \n",
              "63      0  39.974992  37.884477  36.745996  36.181767  35.963598  35.950929   \n",
              "\n",
              "    RSI_ta_12  RSI_ta_13  RSI_ta_14  ...  AWSM_ta_11  AWSM_ta_12  AWSM_ta_13  \\\n",
              "59  25.184977  26.638602  27.893021  ...   -1.007045   -0.709792   -0.436346   \n",
              "60  19.645962  21.139139  22.464201  ...   -1.432955   -1.107917   -0.837115   \n",
              "61  22.264740  23.540211  24.680870  ...   -1.928409   -1.534792   -1.239038   \n",
              "62  24.617978  25.692290  26.663413  ...   -2.335227   -1.991875   -1.582308   \n",
              "63  36.056389  36.225617  36.425001  ...   -2.545000   -2.361042   -1.959808   \n",
              "\n",
              "    AWSM_ta_14  AWSM_ta_15  AWSM_ta_16  AWSM_ta_17  AWSM_ta_18  AWSM_ta_19  \\\n",
              "59   -0.237143    0.036833    0.298906    0.521176    0.798333    1.004211   \n",
              "60   -0.604107   -0.379667   -0.099531    0.143529    0.447083    0.668553   \n",
              "61   -0.990536   -0.759667   -0.490469   -0.230147    0.055278    0.327368   \n",
              "62   -1.314821   -1.105833   -0.856562   -0.583971   -0.343889    0.013026   \n",
              "63   -1.593036   -1.354167   -1.152813   -0.869265   -0.620417   -0.345000   \n",
              "\n",
              "    AWSM_ta_20  \n",
              "59    1.098000  \n",
              "60    0.848500  \n",
              "61    0.557500  \n",
              "62    0.230875  \n",
              "63   -0.025000  \n",
              "\n",
              "[5 rows x 421 columns]"
            ],
            "text/html": [
              "\n",
              "  <div id=\"df-22e1a618-64bc-4442-9c47-b87666d09c60\" class=\"colab-df-container\">\n",
              "    <div>\n",
              "<style scoped>\n",
              "    .dataframe tbody tr th:only-of-type {\n",
              "        vertical-align: middle;\n",
              "    }\n",
              "\n",
              "    .dataframe tbody tr th {\n",
              "        vertical-align: top;\n",
              "    }\n",
              "\n",
              "    .dataframe thead th {\n",
              "        text-align: right;\n",
              "    }\n",
              "</style>\n",
              "<table border=\"1\" class=\"dataframe\">\n",
              "  <thead>\n",
              "    <tr style=\"text-align: right;\">\n",
              "      <th></th>\n",
              "      <th>Label</th>\n",
              "      <th>RSI_ta_6</th>\n",
              "      <th>RSI_ta_7</th>\n",
              "      <th>RSI_ta_8</th>\n",
              "      <th>RSI_ta_9</th>\n",
              "      <th>RSI_ta_10</th>\n",
              "      <th>RSI_ta_11</th>\n",
              "      <th>RSI_ta_12</th>\n",
              "      <th>RSI_ta_13</th>\n",
              "      <th>RSI_ta_14</th>\n",
              "      <th>...</th>\n",
              "      <th>AWSM_ta_11</th>\n",
              "      <th>AWSM_ta_12</th>\n",
              "      <th>AWSM_ta_13</th>\n",
              "      <th>AWSM_ta_14</th>\n",
              "      <th>AWSM_ta_15</th>\n",
              "      <th>AWSM_ta_16</th>\n",
              "      <th>AWSM_ta_17</th>\n",
              "      <th>AWSM_ta_18</th>\n",
              "      <th>AWSM_ta_19</th>\n",
              "      <th>AWSM_ta_20</th>\n",
              "    </tr>\n",
              "  </thead>\n",
              "  <tbody>\n",
              "    <tr>\n",
              "      <th>59</th>\n",
              "      <td>0</td>\n",
              "      <td>10.900907</td>\n",
              "      <td>13.984287</td>\n",
              "      <td>16.808864</td>\n",
              "      <td>19.335721</td>\n",
              "      <td>21.561469</td>\n",
              "      <td>23.502503</td>\n",
              "      <td>25.184977</td>\n",
              "      <td>26.638602</td>\n",
              "      <td>27.893021</td>\n",
              "      <td>...</td>\n",
              "      <td>-1.007045</td>\n",
              "      <td>-0.709792</td>\n",
              "      <td>-0.436346</td>\n",
              "      <td>-0.237143</td>\n",
              "      <td>0.036833</td>\n",
              "      <td>0.298906</td>\n",
              "      <td>0.521176</td>\n",
              "      <td>0.798333</td>\n",
              "      <td>1.004211</td>\n",
              "      <td>1.098000</td>\n",
              "    </tr>\n",
              "    <tr>\n",
              "      <th>60</th>\n",
              "      <td>1</td>\n",
              "      <td>6.896011</td>\n",
              "      <td>9.373318</td>\n",
              "      <td>11.775636</td>\n",
              "      <td>14.029307</td>\n",
              "      <td>16.097933</td>\n",
              "      <td>17.969272</td>\n",
              "      <td>19.645962</td>\n",
              "      <td>21.139139</td>\n",
              "      <td>22.464201</td>\n",
              "      <td>...</td>\n",
              "      <td>-1.432955</td>\n",
              "      <td>-1.107917</td>\n",
              "      <td>-0.837115</td>\n",
              "      <td>-0.604107</td>\n",
              "      <td>-0.379667</td>\n",
              "      <td>-0.099531</td>\n",
              "      <td>0.143529</td>\n",
              "      <td>0.447083</td>\n",
              "      <td>0.668553</td>\n",
              "      <td>0.848500</td>\n",
              "    </tr>\n",
              "    <tr>\n",
              "      <th>61</th>\n",
              "      <td>0</td>\n",
              "      <td>12.323443</td>\n",
              "      <td>14.017505</td>\n",
              "      <td>15.820532</td>\n",
              "      <td>17.601332</td>\n",
              "      <td>19.288652</td>\n",
              "      <td>20.847486</td>\n",
              "      <td>22.264740</td>\n",
              "      <td>23.540211</td>\n",
              "      <td>24.680870</td>\n",
              "      <td>...</td>\n",
              "      <td>-1.928409</td>\n",
              "      <td>-1.534792</td>\n",
              "      <td>-1.239038</td>\n",
              "      <td>-0.990536</td>\n",
              "      <td>-0.759667</td>\n",
              "      <td>-0.490469</td>\n",
              "      <td>-0.230147</td>\n",
              "      <td>0.055278</td>\n",
              "      <td>0.327368</td>\n",
              "      <td>0.557500</td>\n",
              "    </tr>\n",
              "    <tr>\n",
              "      <th>62</th>\n",
              "      <td>0</td>\n",
              "      <td>17.397102</td>\n",
              "      <td>18.306041</td>\n",
              "      <td>19.523081</td>\n",
              "      <td>20.849862</td>\n",
              "      <td>22.176042</td>\n",
              "      <td>23.441957</td>\n",
              "      <td>24.617978</td>\n",
              "      <td>25.692290</td>\n",
              "      <td>26.663413</td>\n",
              "      <td>...</td>\n",
              "      <td>-2.335227</td>\n",
              "      <td>-1.991875</td>\n",
              "      <td>-1.582308</td>\n",
              "      <td>-1.314821</td>\n",
              "      <td>-1.105833</td>\n",
              "      <td>-0.856562</td>\n",
              "      <td>-0.583971</td>\n",
              "      <td>-0.343889</td>\n",
              "      <td>0.013026</td>\n",
              "      <td>0.230875</td>\n",
              "    </tr>\n",
              "    <tr>\n",
              "      <th>63</th>\n",
              "      <td>0</td>\n",
              "      <td>39.974992</td>\n",
              "      <td>37.884477</td>\n",
              "      <td>36.745996</td>\n",
              "      <td>36.181767</td>\n",
              "      <td>35.963598</td>\n",
              "      <td>35.950929</td>\n",
              "      <td>36.056389</td>\n",
              "      <td>36.225617</td>\n",
              "      <td>36.425001</td>\n",
              "      <td>...</td>\n",
              "      <td>-2.545000</td>\n",
              "      <td>-2.361042</td>\n",
              "      <td>-1.959808</td>\n",
              "      <td>-1.593036</td>\n",
              "      <td>-1.354167</td>\n",
              "      <td>-1.152813</td>\n",
              "      <td>-0.869265</td>\n",
              "      <td>-0.620417</td>\n",
              "      <td>-0.345000</td>\n",
              "      <td>-0.025000</td>\n",
              "    </tr>\n",
              "  </tbody>\n",
              "</table>\n",
              "<p>5 rows × 421 columns</p>\n",
              "</div>\n",
              "    <div class=\"colab-df-buttons\">\n",
              "\n",
              "  <div class=\"colab-df-container\">\n",
              "    <button class=\"colab-df-convert\" onclick=\"convertToInteractive('df-22e1a618-64bc-4442-9c47-b87666d09c60')\"\n",
              "            title=\"Convert this dataframe to an interactive table.\"\n",
              "            style=\"display:none;\">\n",
              "\n",
              "  <svg xmlns=\"http://www.w3.org/2000/svg\" height=\"24px\" viewBox=\"0 -960 960 960\">\n",
              "    <path d=\"M120-120v-720h720v720H120Zm60-500h600v-160H180v160Zm220 220h160v-160H400v160Zm0 220h160v-160H400v160ZM180-400h160v-160H180v160Zm440 0h160v-160H620v160ZM180-180h160v-160H180v160Zm440 0h160v-160H620v160Z\"/>\n",
              "  </svg>\n",
              "    </button>\n",
              "\n",
              "  <style>\n",
              "    .colab-df-container {\n",
              "      display:flex;\n",
              "      gap: 12px;\n",
              "    }\n",
              "\n",
              "    .colab-df-convert {\n",
              "      background-color: #E8F0FE;\n",
              "      border: none;\n",
              "      border-radius: 50%;\n",
              "      cursor: pointer;\n",
              "      display: none;\n",
              "      fill: #1967D2;\n",
              "      height: 32px;\n",
              "      padding: 0 0 0 0;\n",
              "      width: 32px;\n",
              "    }\n",
              "\n",
              "    .colab-df-convert:hover {\n",
              "      background-color: #E2EBFA;\n",
              "      box-shadow: 0px 1px 2px rgba(60, 64, 67, 0.3), 0px 1px 3px 1px rgba(60, 64, 67, 0.15);\n",
              "      fill: #174EA6;\n",
              "    }\n",
              "\n",
              "    .colab-df-buttons div {\n",
              "      margin-bottom: 4px;\n",
              "    }\n",
              "\n",
              "    [theme=dark] .colab-df-convert {\n",
              "      background-color: #3B4455;\n",
              "      fill: #D2E3FC;\n",
              "    }\n",
              "\n",
              "    [theme=dark] .colab-df-convert:hover {\n",
              "      background-color: #434B5C;\n",
              "      box-shadow: 0px 1px 3px 1px rgba(0, 0, 0, 0.15);\n",
              "      filter: drop-shadow(0px 1px 2px rgba(0, 0, 0, 0.3));\n",
              "      fill: #FFFFFF;\n",
              "    }\n",
              "  </style>\n",
              "\n",
              "    <script>\n",
              "      const buttonEl =\n",
              "        document.querySelector('#df-22e1a618-64bc-4442-9c47-b87666d09c60 button.colab-df-convert');\n",
              "      buttonEl.style.display =\n",
              "        google.colab.kernel.accessAllowed ? 'block' : 'none';\n",
              "\n",
              "      async function convertToInteractive(key) {\n",
              "        const element = document.querySelector('#df-22e1a618-64bc-4442-9c47-b87666d09c60');\n",
              "        const dataTable =\n",
              "          await google.colab.kernel.invokeFunction('convertToInteractive',\n",
              "                                                    [key], {});\n",
              "        if (!dataTable) return;\n",
              "\n",
              "        const docLinkHtml = 'Like what you see? Visit the ' +\n",
              "          '<a target=\"_blank\" href=https://colab.research.google.com/notebooks/data_table.ipynb>data table notebook</a>'\n",
              "          + ' to learn more about interactive tables.';\n",
              "        element.innerHTML = '';\n",
              "        dataTable['output_type'] = 'display_data';\n",
              "        await google.colab.output.renderOutput(dataTable, element);\n",
              "        const docLink = document.createElement('div');\n",
              "        docLink.innerHTML = docLinkHtml;\n",
              "        element.appendChild(docLink);\n",
              "      }\n",
              "    </script>\n",
              "  </div>\n",
              "\n",
              "\n",
              "<div id=\"df-5463168f-0eb1-43bb-9363-4fd081f3196d\">\n",
              "  <button class=\"colab-df-quickchart\" onclick=\"quickchart('df-5463168f-0eb1-43bb-9363-4fd081f3196d')\"\n",
              "            title=\"Suggest charts\"\n",
              "            style=\"display:none;\">\n",
              "\n",
              "<svg xmlns=\"http://www.w3.org/2000/svg\" height=\"24px\"viewBox=\"0 0 24 24\"\n",
              "     width=\"24px\">\n",
              "    <g>\n",
              "        <path d=\"M19 3H5c-1.1 0-2 .9-2 2v14c0 1.1.9 2 2 2h14c1.1 0 2-.9 2-2V5c0-1.1-.9-2-2-2zM9 17H7v-7h2v7zm4 0h-2V7h2v10zm4 0h-2v-4h2v4z\"/>\n",
              "    </g>\n",
              "</svg>\n",
              "  </button>\n",
              "\n",
              "<style>\n",
              "  .colab-df-quickchart {\n",
              "      --bg-color: #E8F0FE;\n",
              "      --fill-color: #1967D2;\n",
              "      --hover-bg-color: #E2EBFA;\n",
              "      --hover-fill-color: #174EA6;\n",
              "      --disabled-fill-color: #AAA;\n",
              "      --disabled-bg-color: #DDD;\n",
              "  }\n",
              "\n",
              "  [theme=dark] .colab-df-quickchart {\n",
              "      --bg-color: #3B4455;\n",
              "      --fill-color: #D2E3FC;\n",
              "      --hover-bg-color: #434B5C;\n",
              "      --hover-fill-color: #FFFFFF;\n",
              "      --disabled-bg-color: #3B4455;\n",
              "      --disabled-fill-color: #666;\n",
              "  }\n",
              "\n",
              "  .colab-df-quickchart {\n",
              "    background-color: var(--bg-color);\n",
              "    border: none;\n",
              "    border-radius: 50%;\n",
              "    cursor: pointer;\n",
              "    display: none;\n",
              "    fill: var(--fill-color);\n",
              "    height: 32px;\n",
              "    padding: 0;\n",
              "    width: 32px;\n",
              "  }\n",
              "\n",
              "  .colab-df-quickchart:hover {\n",
              "    background-color: var(--hover-bg-color);\n",
              "    box-shadow: 0 1px 2px rgba(60, 64, 67, 0.3), 0 1px 3px 1px rgba(60, 64, 67, 0.15);\n",
              "    fill: var(--button-hover-fill-color);\n",
              "  }\n",
              "\n",
              "  .colab-df-quickchart-complete:disabled,\n",
              "  .colab-df-quickchart-complete:disabled:hover {\n",
              "    background-color: var(--disabled-bg-color);\n",
              "    fill: var(--disabled-fill-color);\n",
              "    box-shadow: none;\n",
              "  }\n",
              "\n",
              "  .colab-df-spinner {\n",
              "    border: 2px solid var(--fill-color);\n",
              "    border-color: transparent;\n",
              "    border-bottom-color: var(--fill-color);\n",
              "    animation:\n",
              "      spin 1s steps(1) infinite;\n",
              "  }\n",
              "\n",
              "  @keyframes spin {\n",
              "    0% {\n",
              "      border-color: transparent;\n",
              "      border-bottom-color: var(--fill-color);\n",
              "      border-left-color: var(--fill-color);\n",
              "    }\n",
              "    20% {\n",
              "      border-color: transparent;\n",
              "      border-left-color: var(--fill-color);\n",
              "      border-top-color: var(--fill-color);\n",
              "    }\n",
              "    30% {\n",
              "      border-color: transparent;\n",
              "      border-left-color: var(--fill-color);\n",
              "      border-top-color: var(--fill-color);\n",
              "      border-right-color: var(--fill-color);\n",
              "    }\n",
              "    40% {\n",
              "      border-color: transparent;\n",
              "      border-right-color: var(--fill-color);\n",
              "      border-top-color: var(--fill-color);\n",
              "    }\n",
              "    60% {\n",
              "      border-color: transparent;\n",
              "      border-right-color: var(--fill-color);\n",
              "    }\n",
              "    80% {\n",
              "      border-color: transparent;\n",
              "      border-right-color: var(--fill-color);\n",
              "      border-bottom-color: var(--fill-color);\n",
              "    }\n",
              "    90% {\n",
              "      border-color: transparent;\n",
              "      border-bottom-color: var(--fill-color);\n",
              "    }\n",
              "  }\n",
              "</style>\n",
              "\n",
              "  <script>\n",
              "    async function quickchart(key) {\n",
              "      const quickchartButtonEl =\n",
              "        document.querySelector('#' + key + ' button');\n",
              "      quickchartButtonEl.disabled = true;  // To prevent multiple clicks.\n",
              "      quickchartButtonEl.classList.add('colab-df-spinner');\n",
              "      try {\n",
              "        const charts = await google.colab.kernel.invokeFunction(\n",
              "            'suggestCharts', [key], {});\n",
              "      } catch (error) {\n",
              "        console.error('Error during call to suggestCharts:', error);\n",
              "      }\n",
              "      quickchartButtonEl.classList.remove('colab-df-spinner');\n",
              "      quickchartButtonEl.classList.add('colab-df-quickchart-complete');\n",
              "    }\n",
              "    (() => {\n",
              "      let quickchartButtonEl =\n",
              "        document.querySelector('#df-5463168f-0eb1-43bb-9363-4fd081f3196d button');\n",
              "      quickchartButtonEl.style.display =\n",
              "        google.colab.kernel.accessAllowed ? 'block' : 'none';\n",
              "    })();\n",
              "  </script>\n",
              "</div>\n",
              "\n",
              "    </div>\n",
              "  </div>\n"
            ],
            "application/vnd.google.colaboratory.intrinsic+json": {
              "type": "dataframe",
              "variable_name": "cleaned_df"
            }
          },
          "metadata": {},
          "execution_count": 160
        }
      ],
      "source": [
        "import pandas as pd\n",
        "stock = \"IBM\"\n",
        "labeled_path = f\"data/labeled_indicators/{stock}_all_labeled_indicators.csv\"\n",
        "df = pd.read_csv(labeled_path)\n",
        "\n",
        "cleaned_df = df.drop(['Unnamed: 0'], axis=1)\n",
        "cleaned_df = cleaned_df.dropna()\n",
        "cleaned_df.head(50)\n",
        "\n",
        "# drop non feature columns\n",
        "cols_to_drop = [\"Date\", \"Open\", \"High\", \"Low\", \"Close\", \"Adj Close\", \"Volume\", \"adjustRatio\"]\n",
        "cleaned_df = cleaned_df.drop(cols_to_drop, axis = 1)\n",
        "\n",
        "# drop last 5 rows\n",
        "cleaned_df = cleaned_df.iloc[:-5, :]\n",
        "\n",
        "cleaned_df.head() #(4971, 421) # 420 features + label column"
      ]
    },
    {
      "cell_type": "code",
      "execution_count": null,
      "metadata": {
        "colab": {
          "base_uri": "https://localhost:8080/"
        },
        "id": "oCHQdaUJmYOE",
        "outputId": "62bb8379-05de-4728-afa8-efbb1d23daf4"
      },
      "outputs": [
        {
          "output_type": "execute_result",
          "data": {
            "text/plain": [
              "Label\n",
              "0    4347\n",
              "1     312\n",
              "2     312\n",
              "Name: count, dtype: int64"
            ]
          },
          "metadata": {},
          "execution_count": 161
        }
      ],
      "source": [
        "# count labels\n",
        "cleaned_df.Label.value_counts()"
      ]
    },
    {
      "cell_type": "markdown",
      "metadata": {
        "id": "F47Gb-7Oysg-"
      },
      "source": [
        "###Retrieve Data with Best Features"
      ]
    },
    {
      "cell_type": "code",
      "execution_count": null,
      "metadata": {
        "colab": {
          "base_uri": "https://localhost:8080/",
          "height": 206
        },
        "id": "pcD7dTV-wZlW",
        "outputId": "57d5d173-7338-460e-9f35-b102351024ec"
      },
      "outputs": [
        {
          "output_type": "execute_result",
          "data": {
            "text/plain": [
              "           0\n",
              "0   RSI_ta_6\n",
              "1   RSI_ta_7\n",
              "2   RSI_ta_8\n",
              "3   RSI_ta_9\n",
              "4  RSI_ta_10"
            ],
            "text/html": [
              "\n",
              "  <div id=\"df-0905a213-de17-41dc-805b-25fd46124e26\" class=\"colab-df-container\">\n",
              "    <div>\n",
              "<style scoped>\n",
              "    .dataframe tbody tr th:only-of-type {\n",
              "        vertical-align: middle;\n",
              "    }\n",
              "\n",
              "    .dataframe tbody tr th {\n",
              "        vertical-align: top;\n",
              "    }\n",
              "\n",
              "    .dataframe thead th {\n",
              "        text-align: right;\n",
              "    }\n",
              "</style>\n",
              "<table border=\"1\" class=\"dataframe\">\n",
              "  <thead>\n",
              "    <tr style=\"text-align: right;\">\n",
              "      <th></th>\n",
              "      <th>0</th>\n",
              "    </tr>\n",
              "  </thead>\n",
              "  <tbody>\n",
              "    <tr>\n",
              "      <th>0</th>\n",
              "      <td>RSI_ta_6</td>\n",
              "    </tr>\n",
              "    <tr>\n",
              "      <th>1</th>\n",
              "      <td>RSI_ta_7</td>\n",
              "    </tr>\n",
              "    <tr>\n",
              "      <th>2</th>\n",
              "      <td>RSI_ta_8</td>\n",
              "    </tr>\n",
              "    <tr>\n",
              "      <th>3</th>\n",
              "      <td>RSI_ta_9</td>\n",
              "    </tr>\n",
              "    <tr>\n",
              "      <th>4</th>\n",
              "      <td>RSI_ta_10</td>\n",
              "    </tr>\n",
              "  </tbody>\n",
              "</table>\n",
              "</div>\n",
              "    <div class=\"colab-df-buttons\">\n",
              "\n",
              "  <div class=\"colab-df-container\">\n",
              "    <button class=\"colab-df-convert\" onclick=\"convertToInteractive('df-0905a213-de17-41dc-805b-25fd46124e26')\"\n",
              "            title=\"Convert this dataframe to an interactive table.\"\n",
              "            style=\"display:none;\">\n",
              "\n",
              "  <svg xmlns=\"http://www.w3.org/2000/svg\" height=\"24px\" viewBox=\"0 -960 960 960\">\n",
              "    <path d=\"M120-120v-720h720v720H120Zm60-500h600v-160H180v160Zm220 220h160v-160H400v160Zm0 220h160v-160H400v160ZM180-400h160v-160H180v160Zm440 0h160v-160H620v160ZM180-180h160v-160H180v160Zm440 0h160v-160H620v160Z\"/>\n",
              "  </svg>\n",
              "    </button>\n",
              "\n",
              "  <style>\n",
              "    .colab-df-container {\n",
              "      display:flex;\n",
              "      gap: 12px;\n",
              "    }\n",
              "\n",
              "    .colab-df-convert {\n",
              "      background-color: #E8F0FE;\n",
              "      border: none;\n",
              "      border-radius: 50%;\n",
              "      cursor: pointer;\n",
              "      display: none;\n",
              "      fill: #1967D2;\n",
              "      height: 32px;\n",
              "      padding: 0 0 0 0;\n",
              "      width: 32px;\n",
              "    }\n",
              "\n",
              "    .colab-df-convert:hover {\n",
              "      background-color: #E2EBFA;\n",
              "      box-shadow: 0px 1px 2px rgba(60, 64, 67, 0.3), 0px 1px 3px 1px rgba(60, 64, 67, 0.15);\n",
              "      fill: #174EA6;\n",
              "    }\n",
              "\n",
              "    .colab-df-buttons div {\n",
              "      margin-bottom: 4px;\n",
              "    }\n",
              "\n",
              "    [theme=dark] .colab-df-convert {\n",
              "      background-color: #3B4455;\n",
              "      fill: #D2E3FC;\n",
              "    }\n",
              "\n",
              "    [theme=dark] .colab-df-convert:hover {\n",
              "      background-color: #434B5C;\n",
              "      box-shadow: 0px 1px 3px 1px rgba(0, 0, 0, 0.15);\n",
              "      filter: drop-shadow(0px 1px 2px rgba(0, 0, 0, 0.3));\n",
              "      fill: #FFFFFF;\n",
              "    }\n",
              "  </style>\n",
              "\n",
              "    <script>\n",
              "      const buttonEl =\n",
              "        document.querySelector('#df-0905a213-de17-41dc-805b-25fd46124e26 button.colab-df-convert');\n",
              "      buttonEl.style.display =\n",
              "        google.colab.kernel.accessAllowed ? 'block' : 'none';\n",
              "\n",
              "      async function convertToInteractive(key) {\n",
              "        const element = document.querySelector('#df-0905a213-de17-41dc-805b-25fd46124e26');\n",
              "        const dataTable =\n",
              "          await google.colab.kernel.invokeFunction('convertToInteractive',\n",
              "                                                    [key], {});\n",
              "        if (!dataTable) return;\n",
              "\n",
              "        const docLinkHtml = 'Like what you see? Visit the ' +\n",
              "          '<a target=\"_blank\" href=https://colab.research.google.com/notebooks/data_table.ipynb>data table notebook</a>'\n",
              "          + ' to learn more about interactive tables.';\n",
              "        element.innerHTML = '';\n",
              "        dataTable['output_type'] = 'display_data';\n",
              "        await google.colab.output.renderOutput(dataTable, element);\n",
              "        const docLink = document.createElement('div');\n",
              "        docLink.innerHTML = docLinkHtml;\n",
              "        element.appendChild(docLink);\n",
              "      }\n",
              "    </script>\n",
              "  </div>\n",
              "\n",
              "\n",
              "<div id=\"df-d42cdb4b-0ba1-4cc0-8064-7ad8beb2288c\">\n",
              "  <button class=\"colab-df-quickchart\" onclick=\"quickchart('df-d42cdb4b-0ba1-4cc0-8064-7ad8beb2288c')\"\n",
              "            title=\"Suggest charts\"\n",
              "            style=\"display:none;\">\n",
              "\n",
              "<svg xmlns=\"http://www.w3.org/2000/svg\" height=\"24px\"viewBox=\"0 0 24 24\"\n",
              "     width=\"24px\">\n",
              "    <g>\n",
              "        <path d=\"M19 3H5c-1.1 0-2 .9-2 2v14c0 1.1.9 2 2 2h14c1.1 0 2-.9 2-2V5c0-1.1-.9-2-2-2zM9 17H7v-7h2v7zm4 0h-2V7h2v10zm4 0h-2v-4h2v4z\"/>\n",
              "    </g>\n",
              "</svg>\n",
              "  </button>\n",
              "\n",
              "<style>\n",
              "  .colab-df-quickchart {\n",
              "      --bg-color: #E8F0FE;\n",
              "      --fill-color: #1967D2;\n",
              "      --hover-bg-color: #E2EBFA;\n",
              "      --hover-fill-color: #174EA6;\n",
              "      --disabled-fill-color: #AAA;\n",
              "      --disabled-bg-color: #DDD;\n",
              "  }\n",
              "\n",
              "  [theme=dark] .colab-df-quickchart {\n",
              "      --bg-color: #3B4455;\n",
              "      --fill-color: #D2E3FC;\n",
              "      --hover-bg-color: #434B5C;\n",
              "      --hover-fill-color: #FFFFFF;\n",
              "      --disabled-bg-color: #3B4455;\n",
              "      --disabled-fill-color: #666;\n",
              "  }\n",
              "\n",
              "  .colab-df-quickchart {\n",
              "    background-color: var(--bg-color);\n",
              "    border: none;\n",
              "    border-radius: 50%;\n",
              "    cursor: pointer;\n",
              "    display: none;\n",
              "    fill: var(--fill-color);\n",
              "    height: 32px;\n",
              "    padding: 0;\n",
              "    width: 32px;\n",
              "  }\n",
              "\n",
              "  .colab-df-quickchart:hover {\n",
              "    background-color: var(--hover-bg-color);\n",
              "    box-shadow: 0 1px 2px rgba(60, 64, 67, 0.3), 0 1px 3px 1px rgba(60, 64, 67, 0.15);\n",
              "    fill: var(--button-hover-fill-color);\n",
              "  }\n",
              "\n",
              "  .colab-df-quickchart-complete:disabled,\n",
              "  .colab-df-quickchart-complete:disabled:hover {\n",
              "    background-color: var(--disabled-bg-color);\n",
              "    fill: var(--disabled-fill-color);\n",
              "    box-shadow: none;\n",
              "  }\n",
              "\n",
              "  .colab-df-spinner {\n",
              "    border: 2px solid var(--fill-color);\n",
              "    border-color: transparent;\n",
              "    border-bottom-color: var(--fill-color);\n",
              "    animation:\n",
              "      spin 1s steps(1) infinite;\n",
              "  }\n",
              "\n",
              "  @keyframes spin {\n",
              "    0% {\n",
              "      border-color: transparent;\n",
              "      border-bottom-color: var(--fill-color);\n",
              "      border-left-color: var(--fill-color);\n",
              "    }\n",
              "    20% {\n",
              "      border-color: transparent;\n",
              "      border-left-color: var(--fill-color);\n",
              "      border-top-color: var(--fill-color);\n",
              "    }\n",
              "    30% {\n",
              "      border-color: transparent;\n",
              "      border-left-color: var(--fill-color);\n",
              "      border-top-color: var(--fill-color);\n",
              "      border-right-color: var(--fill-color);\n",
              "    }\n",
              "    40% {\n",
              "      border-color: transparent;\n",
              "      border-right-color: var(--fill-color);\n",
              "      border-top-color: var(--fill-color);\n",
              "    }\n",
              "    60% {\n",
              "      border-color: transparent;\n",
              "      border-right-color: var(--fill-color);\n",
              "    }\n",
              "    80% {\n",
              "      border-color: transparent;\n",
              "      border-right-color: var(--fill-color);\n",
              "      border-bottom-color: var(--fill-color);\n",
              "    }\n",
              "    90% {\n",
              "      border-color: transparent;\n",
              "      border-bottom-color: var(--fill-color);\n",
              "    }\n",
              "  }\n",
              "</style>\n",
              "\n",
              "  <script>\n",
              "    async function quickchart(key) {\n",
              "      const quickchartButtonEl =\n",
              "        document.querySelector('#' + key + ' button');\n",
              "      quickchartButtonEl.disabled = true;  // To prevent multiple clicks.\n",
              "      quickchartButtonEl.classList.add('colab-df-spinner');\n",
              "      try {\n",
              "        const charts = await google.colab.kernel.invokeFunction(\n",
              "            'suggestCharts', [key], {});\n",
              "      } catch (error) {\n",
              "        console.error('Error during call to suggestCharts:', error);\n",
              "      }\n",
              "      quickchartButtonEl.classList.remove('colab-df-spinner');\n",
              "      quickchartButtonEl.classList.add('colab-df-quickchart-complete');\n",
              "    }\n",
              "    (() => {\n",
              "      let quickchartButtonEl =\n",
              "        document.querySelector('#df-d42cdb4b-0ba1-4cc0-8064-7ad8beb2288c button');\n",
              "      quickchartButtonEl.style.display =\n",
              "        google.colab.kernel.accessAllowed ? 'block' : 'none';\n",
              "    })();\n",
              "  </script>\n",
              "</div>\n",
              "\n",
              "    </div>\n",
              "  </div>\n"
            ],
            "application/vnd.google.colaboratory.intrinsic+json": {
              "type": "dataframe",
              "variable_name": "df",
              "summary": "{\n  \"name\": \"df\",\n  \"rows\": 225,\n  \"fields\": [\n    {\n      \"column\": \"0\",\n      \"properties\": {\n        \"dtype\": \"string\",\n        \"num_unique_values\": 225,\n        \"samples\": [\n          \"RSI_ta_15\",\n          \"CMF_ta_17\",\n          \"MFI_ta_16\"\n        ],\n        \"semantic_type\": \"\",\n        \"description\": \"\"\n      }\n    }\n  ]\n}"
            }
          },
          "metadata": {},
          "execution_count": 162
        }
      ],
      "source": [
        "import pandas as pd\n",
        "\n",
        "stock = \"IBM\"\n",
        "data_path = f\"data/{stock}_selected_features.csv\"\n",
        "df = pd.read_csv(data_path)\n",
        "\n",
        "df = df.drop(['Unnamed: 0'], axis=1)\n",
        "\n",
        "df.head() #(225, 1)"
      ]
    },
    {
      "cell_type": "code",
      "execution_count": null,
      "metadata": {
        "colab": {
          "base_uri": "https://localhost:8080/",
          "height": 99
        },
        "id": "E-jka903y0Vv",
        "outputId": "a7dab05c-9d61-4006-bdfe-56710934093d"
      },
      "outputs": [
        {
          "output_type": "execute_result",
          "data": {
            "text/plain": [
              "Empty DataFrame\n",
              "Columns: [Label, RSI_ta_6, RSI_ta_7, RSI_ta_8, RSI_ta_9, RSI_ta_10, RSI_ta_11, RSI_ta_12, RSI_ta_13, RSI_ta_14, RSI_ta_15, RSI_ta_16, RSI_ta_17, RSI_ta_18, RSI_ta_19, RSI_ta_20, WILLR_ta_6, WILLR_ta_7, WILLR_ta_8, WILLR_ta_9, WILLR_ta_10, WILLR_ta_11, WILLR_ta_12, WILLR_ta_13, WILLR_ta_14, WILLR_ta_15, WILLR_ta_16, WILLR_ta_17, WILLR_ta_18, WILLR_ta_19, WILLR_ta_20, CCI_ta_6, CCI_ta_7, CCI_ta_8, CCI_ta_9, CCI_ta_10, CCI_ta_11, CCI_ta_12, CCI_ta_13, CCI_ta_14, CCI_ta_15, CCI_ta_16, CCI_ta_17, CCI_ta_18, CCI_ta_19, CCI_ta_20, CMO_talib_6, CMO_talib_7, CMO_talib_8, CMO_talib_9, CMO_talib_10, CMO_talib_11, CMO_talib_12, CMO_talib_13, CMO_talib_14, CMO_talib_15, CMO_talib_16, CMO_talib_17, CMO_talib_18, CMO_talib_19, CMO_talib_20, MACD_ta_6, MACD_ta_7, MACD_ta_8, MACD_ta_9, MACD_ta_10, MACD_ta_11, MACD_ta_12, MACD_ta_13, MACD_ta_14, MACD_ta_15, MACD_ta_16, MACD_ta_17, MACD_ta_18, MACD_ta_19, MACD_ta_20, PPO_ta_6, PPO_ta_7, PPO_ta_8, PPO_ta_9, PPO_ta_10, PPO_ta_11, PPO_ta_12, PPO_ta_13, PPO_ta_14, PPO_ta_15, PPO_ta_16, PPO_ta_17, PPO_ta_18, PPO_ta_19, PPO_ta_20, ROC_ta_6, ROC_ta_7, ROC_ta_8, ROC_ta_9, ROC_ta_10, ROC_ta_11, ROC_ta_12, ROC_ta_13, ROC_ta_14, ...]\n",
              "Index: []\n",
              "\n",
              "[0 rows x 226 columns]"
            ],
            "text/html": [
              "\n",
              "  <div id=\"df-180174e8-e549-44de-83ba-b74b95d235b9\" class=\"colab-df-container\">\n",
              "    <div>\n",
              "<style scoped>\n",
              "    .dataframe tbody tr th:only-of-type {\n",
              "        vertical-align: middle;\n",
              "    }\n",
              "\n",
              "    .dataframe tbody tr th {\n",
              "        vertical-align: top;\n",
              "    }\n",
              "\n",
              "    .dataframe thead th {\n",
              "        text-align: right;\n",
              "    }\n",
              "</style>\n",
              "<table border=\"1\" class=\"dataframe\">\n",
              "  <thead>\n",
              "    <tr style=\"text-align: right;\">\n",
              "      <th>0</th>\n",
              "      <th>Label</th>\n",
              "      <th>RSI_ta_6</th>\n",
              "      <th>RSI_ta_7</th>\n",
              "      <th>RSI_ta_8</th>\n",
              "      <th>RSI_ta_9</th>\n",
              "      <th>RSI_ta_10</th>\n",
              "      <th>RSI_ta_11</th>\n",
              "      <th>RSI_ta_12</th>\n",
              "      <th>RSI_ta_13</th>\n",
              "      <th>RSI_ta_14</th>\n",
              "      <th>...</th>\n",
              "      <th>AWSM_ta_7</th>\n",
              "      <th>AWSM_ta_8</th>\n",
              "      <th>AWSM_ta_9</th>\n",
              "      <th>AWSM_ta_10</th>\n",
              "      <th>AWSM_ta_11</th>\n",
              "      <th>AWSM_ta_12</th>\n",
              "      <th>AWSM_ta_13</th>\n",
              "      <th>AWSM_ta_14</th>\n",
              "      <th>AWSM_ta_15</th>\n",
              "      <th>AWSM_ta_16</th>\n",
              "    </tr>\n",
              "  </thead>\n",
              "  <tbody>\n",
              "  </tbody>\n",
              "</table>\n",
              "<p>0 rows × 226 columns</p>\n",
              "</div>\n",
              "    <div class=\"colab-df-buttons\">\n",
              "\n",
              "  <div class=\"colab-df-container\">\n",
              "    <button class=\"colab-df-convert\" onclick=\"convertToInteractive('df-180174e8-e549-44de-83ba-b74b95d235b9')\"\n",
              "            title=\"Convert this dataframe to an interactive table.\"\n",
              "            style=\"display:none;\">\n",
              "\n",
              "  <svg xmlns=\"http://www.w3.org/2000/svg\" height=\"24px\" viewBox=\"0 -960 960 960\">\n",
              "    <path d=\"M120-120v-720h720v720H120Zm60-500h600v-160H180v160Zm220 220h160v-160H400v160Zm0 220h160v-160H400v160ZM180-400h160v-160H180v160Zm440 0h160v-160H620v160ZM180-180h160v-160H180v160Zm440 0h160v-160H620v160Z\"/>\n",
              "  </svg>\n",
              "    </button>\n",
              "\n",
              "  <style>\n",
              "    .colab-df-container {\n",
              "      display:flex;\n",
              "      gap: 12px;\n",
              "    }\n",
              "\n",
              "    .colab-df-convert {\n",
              "      background-color: #E8F0FE;\n",
              "      border: none;\n",
              "      border-radius: 50%;\n",
              "      cursor: pointer;\n",
              "      display: none;\n",
              "      fill: #1967D2;\n",
              "      height: 32px;\n",
              "      padding: 0 0 0 0;\n",
              "      width: 32px;\n",
              "    }\n",
              "\n",
              "    .colab-df-convert:hover {\n",
              "      background-color: #E2EBFA;\n",
              "      box-shadow: 0px 1px 2px rgba(60, 64, 67, 0.3), 0px 1px 3px 1px rgba(60, 64, 67, 0.15);\n",
              "      fill: #174EA6;\n",
              "    }\n",
              "\n",
              "    .colab-df-buttons div {\n",
              "      margin-bottom: 4px;\n",
              "    }\n",
              "\n",
              "    [theme=dark] .colab-df-convert {\n",
              "      background-color: #3B4455;\n",
              "      fill: #D2E3FC;\n",
              "    }\n",
              "\n",
              "    [theme=dark] .colab-df-convert:hover {\n",
              "      background-color: #434B5C;\n",
              "      box-shadow: 0px 1px 3px 1px rgba(0, 0, 0, 0.15);\n",
              "      filter: drop-shadow(0px 1px 2px rgba(0, 0, 0, 0.3));\n",
              "      fill: #FFFFFF;\n",
              "    }\n",
              "  </style>\n",
              "\n",
              "    <script>\n",
              "      const buttonEl =\n",
              "        document.querySelector('#df-180174e8-e549-44de-83ba-b74b95d235b9 button.colab-df-convert');\n",
              "      buttonEl.style.display =\n",
              "        google.colab.kernel.accessAllowed ? 'block' : 'none';\n",
              "\n",
              "      async function convertToInteractive(key) {\n",
              "        const element = document.querySelector('#df-180174e8-e549-44de-83ba-b74b95d235b9');\n",
              "        const dataTable =\n",
              "          await google.colab.kernel.invokeFunction('convertToInteractive',\n",
              "                                                    [key], {});\n",
              "        if (!dataTable) return;\n",
              "\n",
              "        const docLinkHtml = 'Like what you see? Visit the ' +\n",
              "          '<a target=\"_blank\" href=https://colab.research.google.com/notebooks/data_table.ipynb>data table notebook</a>'\n",
              "          + ' to learn more about interactive tables.';\n",
              "        element.innerHTML = '';\n",
              "        dataTable['output_type'] = 'display_data';\n",
              "        await google.colab.output.renderOutput(dataTable, element);\n",
              "        const docLink = document.createElement('div');\n",
              "        docLink.innerHTML = docLinkHtml;\n",
              "        element.appendChild(docLink);\n",
              "      }\n",
              "    </script>\n",
              "  </div>\n",
              "\n",
              "\n",
              "    </div>\n",
              "  </div>\n"
            ],
            "application/vnd.google.colaboratory.intrinsic+json": {
              "type": "dataframe",
              "variable_name": "features"
            }
          },
          "metadata": {},
          "execution_count": 163
        }
      ],
      "source": [
        "max_accuracy_features = df.T # transpose dataframe\n",
        "\n",
        "headers = max_accuracy_features.iloc[0]\n",
        "features = pd.DataFrame(max_accuracy_features.values[1:], columns=headers) # best feature columns (0, 225) shape\n",
        "\n",
        "features.insert(0, \"Label\", \"\")\n",
        "\n",
        "features.head()"
      ]
    },
    {
      "cell_type": "code",
      "execution_count": null,
      "metadata": {
        "colab": {
          "base_uri": "https://localhost:8080/"
        },
        "id": "yWH46hF8y9Wj",
        "outputId": "dbf88c47-41a3-4ddf-cfc8-5cbeadc83419"
      },
      "outputs": [
        {
          "output_type": "execute_result",
          "data": {
            "text/plain": [
              "(4971, 226)"
            ]
          },
          "metadata": {},
          "execution_count": 164
        }
      ],
      "source": [
        "common_cols=list(set.intersection(set(cleaned_df), set(features)))\n",
        "X_features = cleaned_df[common_cols]\n",
        "\n",
        "# rearrange to keep the original order of feature columns\n",
        "feats = X_features[list(features.columns)]\n",
        "\n",
        "feats.shape"
      ]
    },
    {
      "cell_type": "code",
      "execution_count": null,
      "metadata": {
        "colab": {
          "base_uri": "https://localhost:8080/",
          "height": 291
        },
        "id": "3I61029rmlh6",
        "outputId": "c77e0bda-4694-498c-973d-f3f0dbb1cfe2"
      },
      "outputs": [
        {
          "output_type": "stream",
          "name": "stdout",
          "text": [
            "Shape of Features:  (4971, 225)\n",
            "Shape of Labels:  (4971, 1)\n"
          ]
        },
        {
          "output_type": "execute_result",
          "data": {
            "text/plain": [
              "     RSI_ta_6   RSI_ta_7   RSI_ta_8   RSI_ta_9  RSI_ta_10  RSI_ta_11  \\\n",
              "59  10.900907  13.984287  16.808864  19.335721  21.561469  23.502503   \n",
              "60   6.896011   9.373318  11.775636  14.029307  16.097933  17.969272   \n",
              "61  12.323443  14.017505  15.820532  17.601332  19.288652  20.847486   \n",
              "62  17.397102  18.306041  19.523081  20.849862  22.176042  23.441957   \n",
              "63  39.974992  37.884477  36.745996  36.181767  35.963598  35.950929   \n",
              "\n",
              "    RSI_ta_12  RSI_ta_13  RSI_ta_14  RSI_ta_15  ...  AWSM_ta_7  AWSM_ta_8  \\\n",
              "59  25.184977  26.638602  27.893021  28.975873  ...  -1.797857  -1.737187   \n",
              "60  19.645962  21.139139  22.464201  23.638116  ...  -2.159286  -2.083438   \n",
              "61  22.264740  23.540211  24.680870  25.697282  ...  -2.343571  -2.408750   \n",
              "62  24.617978  25.692290  26.663413  27.535602  ...  -2.513929  -2.540000   \n",
              "63  36.056389  36.225617  36.425001  36.634057  ...  -2.506429  -2.553750   \n",
              "\n",
              "    AWSM_ta_9  AWSM_ta_10  AWSM_ta_11  AWSM_ta_12  AWSM_ta_13  AWSM_ta_14  \\\n",
              "59  -1.515556    -1.30075   -1.007045   -0.709792   -0.436346   -0.237143   \n",
              "60  -1.968056    -1.74875   -1.432955   -1.107917   -0.837115   -0.604107   \n",
              "61  -2.348056    -2.19050   -1.928409   -1.534792   -1.239038   -0.990536   \n",
              "62  -2.587500    -2.48825   -2.335227   -1.991875   -1.582308   -1.314821   \n",
              "63  -2.599444    -2.66725   -2.545000   -2.361042   -1.959808   -1.593036   \n",
              "\n",
              "    AWSM_ta_15  AWSM_ta_16  \n",
              "59    0.036833    0.298906  \n",
              "60   -0.379667   -0.099531  \n",
              "61   -0.759667   -0.490469  \n",
              "62   -1.105833   -0.856562  \n",
              "63   -1.354167   -1.152813  \n",
              "\n",
              "[5 rows x 225 columns]"
            ],
            "text/html": [
              "\n",
              "  <div id=\"df-f94287f6-a6bf-4174-94dc-75407ca62180\" class=\"colab-df-container\">\n",
              "    <div>\n",
              "<style scoped>\n",
              "    .dataframe tbody tr th:only-of-type {\n",
              "        vertical-align: middle;\n",
              "    }\n",
              "\n",
              "    .dataframe tbody tr th {\n",
              "        vertical-align: top;\n",
              "    }\n",
              "\n",
              "    .dataframe thead th {\n",
              "        text-align: right;\n",
              "    }\n",
              "</style>\n",
              "<table border=\"1\" class=\"dataframe\">\n",
              "  <thead>\n",
              "    <tr style=\"text-align: right;\">\n",
              "      <th></th>\n",
              "      <th>RSI_ta_6</th>\n",
              "      <th>RSI_ta_7</th>\n",
              "      <th>RSI_ta_8</th>\n",
              "      <th>RSI_ta_9</th>\n",
              "      <th>RSI_ta_10</th>\n",
              "      <th>RSI_ta_11</th>\n",
              "      <th>RSI_ta_12</th>\n",
              "      <th>RSI_ta_13</th>\n",
              "      <th>RSI_ta_14</th>\n",
              "      <th>RSI_ta_15</th>\n",
              "      <th>...</th>\n",
              "      <th>AWSM_ta_7</th>\n",
              "      <th>AWSM_ta_8</th>\n",
              "      <th>AWSM_ta_9</th>\n",
              "      <th>AWSM_ta_10</th>\n",
              "      <th>AWSM_ta_11</th>\n",
              "      <th>AWSM_ta_12</th>\n",
              "      <th>AWSM_ta_13</th>\n",
              "      <th>AWSM_ta_14</th>\n",
              "      <th>AWSM_ta_15</th>\n",
              "      <th>AWSM_ta_16</th>\n",
              "    </tr>\n",
              "  </thead>\n",
              "  <tbody>\n",
              "    <tr>\n",
              "      <th>59</th>\n",
              "      <td>10.900907</td>\n",
              "      <td>13.984287</td>\n",
              "      <td>16.808864</td>\n",
              "      <td>19.335721</td>\n",
              "      <td>21.561469</td>\n",
              "      <td>23.502503</td>\n",
              "      <td>25.184977</td>\n",
              "      <td>26.638602</td>\n",
              "      <td>27.893021</td>\n",
              "      <td>28.975873</td>\n",
              "      <td>...</td>\n",
              "      <td>-1.797857</td>\n",
              "      <td>-1.737187</td>\n",
              "      <td>-1.515556</td>\n",
              "      <td>-1.30075</td>\n",
              "      <td>-1.007045</td>\n",
              "      <td>-0.709792</td>\n",
              "      <td>-0.436346</td>\n",
              "      <td>-0.237143</td>\n",
              "      <td>0.036833</td>\n",
              "      <td>0.298906</td>\n",
              "    </tr>\n",
              "    <tr>\n",
              "      <th>60</th>\n",
              "      <td>6.896011</td>\n",
              "      <td>9.373318</td>\n",
              "      <td>11.775636</td>\n",
              "      <td>14.029307</td>\n",
              "      <td>16.097933</td>\n",
              "      <td>17.969272</td>\n",
              "      <td>19.645962</td>\n",
              "      <td>21.139139</td>\n",
              "      <td>22.464201</td>\n",
              "      <td>23.638116</td>\n",
              "      <td>...</td>\n",
              "      <td>-2.159286</td>\n",
              "      <td>-2.083438</td>\n",
              "      <td>-1.968056</td>\n",
              "      <td>-1.74875</td>\n",
              "      <td>-1.432955</td>\n",
              "      <td>-1.107917</td>\n",
              "      <td>-0.837115</td>\n",
              "      <td>-0.604107</td>\n",
              "      <td>-0.379667</td>\n",
              "      <td>-0.099531</td>\n",
              "    </tr>\n",
              "    <tr>\n",
              "      <th>61</th>\n",
              "      <td>12.323443</td>\n",
              "      <td>14.017505</td>\n",
              "      <td>15.820532</td>\n",
              "      <td>17.601332</td>\n",
              "      <td>19.288652</td>\n",
              "      <td>20.847486</td>\n",
              "      <td>22.264740</td>\n",
              "      <td>23.540211</td>\n",
              "      <td>24.680870</td>\n",
              "      <td>25.697282</td>\n",
              "      <td>...</td>\n",
              "      <td>-2.343571</td>\n",
              "      <td>-2.408750</td>\n",
              "      <td>-2.348056</td>\n",
              "      <td>-2.19050</td>\n",
              "      <td>-1.928409</td>\n",
              "      <td>-1.534792</td>\n",
              "      <td>-1.239038</td>\n",
              "      <td>-0.990536</td>\n",
              "      <td>-0.759667</td>\n",
              "      <td>-0.490469</td>\n",
              "    </tr>\n",
              "    <tr>\n",
              "      <th>62</th>\n",
              "      <td>17.397102</td>\n",
              "      <td>18.306041</td>\n",
              "      <td>19.523081</td>\n",
              "      <td>20.849862</td>\n",
              "      <td>22.176042</td>\n",
              "      <td>23.441957</td>\n",
              "      <td>24.617978</td>\n",
              "      <td>25.692290</td>\n",
              "      <td>26.663413</td>\n",
              "      <td>27.535602</td>\n",
              "      <td>...</td>\n",
              "      <td>-2.513929</td>\n",
              "      <td>-2.540000</td>\n",
              "      <td>-2.587500</td>\n",
              "      <td>-2.48825</td>\n",
              "      <td>-2.335227</td>\n",
              "      <td>-1.991875</td>\n",
              "      <td>-1.582308</td>\n",
              "      <td>-1.314821</td>\n",
              "      <td>-1.105833</td>\n",
              "      <td>-0.856562</td>\n",
              "    </tr>\n",
              "    <tr>\n",
              "      <th>63</th>\n",
              "      <td>39.974992</td>\n",
              "      <td>37.884477</td>\n",
              "      <td>36.745996</td>\n",
              "      <td>36.181767</td>\n",
              "      <td>35.963598</td>\n",
              "      <td>35.950929</td>\n",
              "      <td>36.056389</td>\n",
              "      <td>36.225617</td>\n",
              "      <td>36.425001</td>\n",
              "      <td>36.634057</td>\n",
              "      <td>...</td>\n",
              "      <td>-2.506429</td>\n",
              "      <td>-2.553750</td>\n",
              "      <td>-2.599444</td>\n",
              "      <td>-2.66725</td>\n",
              "      <td>-2.545000</td>\n",
              "      <td>-2.361042</td>\n",
              "      <td>-1.959808</td>\n",
              "      <td>-1.593036</td>\n",
              "      <td>-1.354167</td>\n",
              "      <td>-1.152813</td>\n",
              "    </tr>\n",
              "  </tbody>\n",
              "</table>\n",
              "<p>5 rows × 225 columns</p>\n",
              "</div>\n",
              "    <div class=\"colab-df-buttons\">\n",
              "\n",
              "  <div class=\"colab-df-container\">\n",
              "    <button class=\"colab-df-convert\" onclick=\"convertToInteractive('df-f94287f6-a6bf-4174-94dc-75407ca62180')\"\n",
              "            title=\"Convert this dataframe to an interactive table.\"\n",
              "            style=\"display:none;\">\n",
              "\n",
              "  <svg xmlns=\"http://www.w3.org/2000/svg\" height=\"24px\" viewBox=\"0 -960 960 960\">\n",
              "    <path d=\"M120-120v-720h720v720H120Zm60-500h600v-160H180v160Zm220 220h160v-160H400v160Zm0 220h160v-160H400v160ZM180-400h160v-160H180v160Zm440 0h160v-160H620v160ZM180-180h160v-160H180v160Zm440 0h160v-160H620v160Z\"/>\n",
              "  </svg>\n",
              "    </button>\n",
              "\n",
              "  <style>\n",
              "    .colab-df-container {\n",
              "      display:flex;\n",
              "      gap: 12px;\n",
              "    }\n",
              "\n",
              "    .colab-df-convert {\n",
              "      background-color: #E8F0FE;\n",
              "      border: none;\n",
              "      border-radius: 50%;\n",
              "      cursor: pointer;\n",
              "      display: none;\n",
              "      fill: #1967D2;\n",
              "      height: 32px;\n",
              "      padding: 0 0 0 0;\n",
              "      width: 32px;\n",
              "    }\n",
              "\n",
              "    .colab-df-convert:hover {\n",
              "      background-color: #E2EBFA;\n",
              "      box-shadow: 0px 1px 2px rgba(60, 64, 67, 0.3), 0px 1px 3px 1px rgba(60, 64, 67, 0.15);\n",
              "      fill: #174EA6;\n",
              "    }\n",
              "\n",
              "    .colab-df-buttons div {\n",
              "      margin-bottom: 4px;\n",
              "    }\n",
              "\n",
              "    [theme=dark] .colab-df-convert {\n",
              "      background-color: #3B4455;\n",
              "      fill: #D2E3FC;\n",
              "    }\n",
              "\n",
              "    [theme=dark] .colab-df-convert:hover {\n",
              "      background-color: #434B5C;\n",
              "      box-shadow: 0px 1px 3px 1px rgba(0, 0, 0, 0.15);\n",
              "      filter: drop-shadow(0px 1px 2px rgba(0, 0, 0, 0.3));\n",
              "      fill: #FFFFFF;\n",
              "    }\n",
              "  </style>\n",
              "\n",
              "    <script>\n",
              "      const buttonEl =\n",
              "        document.querySelector('#df-f94287f6-a6bf-4174-94dc-75407ca62180 button.colab-df-convert');\n",
              "      buttonEl.style.display =\n",
              "        google.colab.kernel.accessAllowed ? 'block' : 'none';\n",
              "\n",
              "      async function convertToInteractive(key) {\n",
              "        const element = document.querySelector('#df-f94287f6-a6bf-4174-94dc-75407ca62180');\n",
              "        const dataTable =\n",
              "          await google.colab.kernel.invokeFunction('convertToInteractive',\n",
              "                                                    [key], {});\n",
              "        if (!dataTable) return;\n",
              "\n",
              "        const docLinkHtml = 'Like what you see? Visit the ' +\n",
              "          '<a target=\"_blank\" href=https://colab.research.google.com/notebooks/data_table.ipynb>data table notebook</a>'\n",
              "          + ' to learn more about interactive tables.';\n",
              "        element.innerHTML = '';\n",
              "        dataTable['output_type'] = 'display_data';\n",
              "        await google.colab.output.renderOutput(dataTable, element);\n",
              "        const docLink = document.createElement('div');\n",
              "        docLink.innerHTML = docLinkHtml;\n",
              "        element.appendChild(docLink);\n",
              "      }\n",
              "    </script>\n",
              "  </div>\n",
              "\n",
              "\n",
              "<div id=\"df-8b0bd706-a8ec-44e4-b8bb-51ce0994e7ba\">\n",
              "  <button class=\"colab-df-quickchart\" onclick=\"quickchart('df-8b0bd706-a8ec-44e4-b8bb-51ce0994e7ba')\"\n",
              "            title=\"Suggest charts\"\n",
              "            style=\"display:none;\">\n",
              "\n",
              "<svg xmlns=\"http://www.w3.org/2000/svg\" height=\"24px\"viewBox=\"0 0 24 24\"\n",
              "     width=\"24px\">\n",
              "    <g>\n",
              "        <path d=\"M19 3H5c-1.1 0-2 .9-2 2v14c0 1.1.9 2 2 2h14c1.1 0 2-.9 2-2V5c0-1.1-.9-2-2-2zM9 17H7v-7h2v7zm4 0h-2V7h2v10zm4 0h-2v-4h2v4z\"/>\n",
              "    </g>\n",
              "</svg>\n",
              "  </button>\n",
              "\n",
              "<style>\n",
              "  .colab-df-quickchart {\n",
              "      --bg-color: #E8F0FE;\n",
              "      --fill-color: #1967D2;\n",
              "      --hover-bg-color: #E2EBFA;\n",
              "      --hover-fill-color: #174EA6;\n",
              "      --disabled-fill-color: #AAA;\n",
              "      --disabled-bg-color: #DDD;\n",
              "  }\n",
              "\n",
              "  [theme=dark] .colab-df-quickchart {\n",
              "      --bg-color: #3B4455;\n",
              "      --fill-color: #D2E3FC;\n",
              "      --hover-bg-color: #434B5C;\n",
              "      --hover-fill-color: #FFFFFF;\n",
              "      --disabled-bg-color: #3B4455;\n",
              "      --disabled-fill-color: #666;\n",
              "  }\n",
              "\n",
              "  .colab-df-quickchart {\n",
              "    background-color: var(--bg-color);\n",
              "    border: none;\n",
              "    border-radius: 50%;\n",
              "    cursor: pointer;\n",
              "    display: none;\n",
              "    fill: var(--fill-color);\n",
              "    height: 32px;\n",
              "    padding: 0;\n",
              "    width: 32px;\n",
              "  }\n",
              "\n",
              "  .colab-df-quickchart:hover {\n",
              "    background-color: var(--hover-bg-color);\n",
              "    box-shadow: 0 1px 2px rgba(60, 64, 67, 0.3), 0 1px 3px 1px rgba(60, 64, 67, 0.15);\n",
              "    fill: var(--button-hover-fill-color);\n",
              "  }\n",
              "\n",
              "  .colab-df-quickchart-complete:disabled,\n",
              "  .colab-df-quickchart-complete:disabled:hover {\n",
              "    background-color: var(--disabled-bg-color);\n",
              "    fill: var(--disabled-fill-color);\n",
              "    box-shadow: none;\n",
              "  }\n",
              "\n",
              "  .colab-df-spinner {\n",
              "    border: 2px solid var(--fill-color);\n",
              "    border-color: transparent;\n",
              "    border-bottom-color: var(--fill-color);\n",
              "    animation:\n",
              "      spin 1s steps(1) infinite;\n",
              "  }\n",
              "\n",
              "  @keyframes spin {\n",
              "    0% {\n",
              "      border-color: transparent;\n",
              "      border-bottom-color: var(--fill-color);\n",
              "      border-left-color: var(--fill-color);\n",
              "    }\n",
              "    20% {\n",
              "      border-color: transparent;\n",
              "      border-left-color: var(--fill-color);\n",
              "      border-top-color: var(--fill-color);\n",
              "    }\n",
              "    30% {\n",
              "      border-color: transparent;\n",
              "      border-left-color: var(--fill-color);\n",
              "      border-top-color: var(--fill-color);\n",
              "      border-right-color: var(--fill-color);\n",
              "    }\n",
              "    40% {\n",
              "      border-color: transparent;\n",
              "      border-right-color: var(--fill-color);\n",
              "      border-top-color: var(--fill-color);\n",
              "    }\n",
              "    60% {\n",
              "      border-color: transparent;\n",
              "      border-right-color: var(--fill-color);\n",
              "    }\n",
              "    80% {\n",
              "      border-color: transparent;\n",
              "      border-right-color: var(--fill-color);\n",
              "      border-bottom-color: var(--fill-color);\n",
              "    }\n",
              "    90% {\n",
              "      border-color: transparent;\n",
              "      border-bottom-color: var(--fill-color);\n",
              "    }\n",
              "  }\n",
              "</style>\n",
              "\n",
              "  <script>\n",
              "    async function quickchart(key) {\n",
              "      const quickchartButtonEl =\n",
              "        document.querySelector('#' + key + ' button');\n",
              "      quickchartButtonEl.disabled = true;  // To prevent multiple clicks.\n",
              "      quickchartButtonEl.classList.add('colab-df-spinner');\n",
              "      try {\n",
              "        const charts = await google.colab.kernel.invokeFunction(\n",
              "            'suggestCharts', [key], {});\n",
              "      } catch (error) {\n",
              "        console.error('Error during call to suggestCharts:', error);\n",
              "      }\n",
              "      quickchartButtonEl.classList.remove('colab-df-spinner');\n",
              "      quickchartButtonEl.classList.add('colab-df-quickchart-complete');\n",
              "    }\n",
              "    (() => {\n",
              "      let quickchartButtonEl =\n",
              "        document.querySelector('#df-8b0bd706-a8ec-44e4-b8bb-51ce0994e7ba button');\n",
              "      quickchartButtonEl.style.display =\n",
              "        google.colab.kernel.accessAllowed ? 'block' : 'none';\n",
              "    })();\n",
              "  </script>\n",
              "</div>\n",
              "\n",
              "    </div>\n",
              "  </div>\n"
            ],
            "application/vnd.google.colaboratory.intrinsic+json": {
              "type": "dataframe",
              "variable_name": "X"
            }
          },
          "metadata": {},
          "execution_count": 165
        }
      ],
      "source": [
        "# feats df contains features and label for all data\n",
        "# feature columns\n",
        "X = feats.iloc[:, feats.columns != 'Label']\n",
        "\n",
        "# outcome column\n",
        "y = feats.iloc[:, feats.columns == 'Label']\n",
        "\n",
        "print(\"Shape of Features: \", X.values.shape)\n",
        "print(\"Shape of Labels: \", y.values.shape)\n",
        "\n",
        "X.head()"
      ]
    },
    {
      "cell_type": "markdown",
      "metadata": {
        "id": "1URRvW8EnMXF"
      },
      "source": [
        "#Train Test Split"
      ]
    },
    {
      "cell_type": "code",
      "execution_count": null,
      "metadata": {
        "colab": {
          "base_uri": "https://localhost:8080/"
        },
        "id": "bU-ImN55nP6q",
        "outputId": "2d106814-4af3-40a9-ab92-d169f337adf9"
      },
      "outputs": [
        {
          "output_type": "stream",
          "name": "stdout",
          "text": [
            "X_train_set shape: (3976, 225)\n",
            "y_train_set shape: (3976, 1)\n",
            "X_test shape: (995, 225)\n",
            "y_test shape: (995, 1)\n"
          ]
        }
      ],
      "source": [
        "from sklearn.model_selection import train_test_split\n",
        "\n",
        "# train and test data\n",
        "X_train_set, X_test, y_train_set, y_test = train_test_split(X.values, y.values, train_size=0.8,\n",
        "                                                    test_size=0.2, random_state=2, shuffle=True,\n",
        "                                                    stratify=y.values)\n",
        "\n",
        "print(f\"X_train_set shape: {X_train_set.shape}\")\n",
        "print(f\"y_train_set shape: {y_train_set.shape}\")\n",
        "print(f\"X_test shape: {X_test.shape}\")\n",
        "print(f\"y_test shape: {y_test.shape}\")"
      ]
    },
    {
      "cell_type": "code",
      "execution_count": null,
      "metadata": {
        "colab": {
          "base_uri": "https://localhost:8080/"
        },
        "id": "5SgMyrMfqC4w",
        "outputId": "b5cd68c6-6081-44bd-f910-025ca4df9446"
      },
      "outputs": [
        {
          "output_type": "stream",
          "name": "stdout",
          "text": [
            "y_test Class Distribution: \n",
            "[[  0 870]\n",
            " [  1  63]\n",
            " [  2  62]]\n"
          ]
        }
      ],
      "source": [
        "import numpy as np\n",
        "unique, counts = np.unique(y_test, return_counts=True)\n",
        "print(\"y_test Class Distribution: \")\n",
        "print(np.asarray((unique, counts)).T)"
      ]
    },
    {
      "cell_type": "code",
      "execution_count": null,
      "metadata": {
        "colab": {
          "base_uri": "https://localhost:8080/"
        },
        "id": "BzUZVMO7rZMt",
        "outputId": "68adf03f-15c4-475f-a690-2c0569e17313"
      },
      "outputs": [
        {
          "output_type": "stream",
          "name": "stdout",
          "text": [
            "X_train shape: (3180, 225)\n",
            "y_train shape: (3180, 1)\n",
            "X_val shape: (796, 225)\n",
            "y_val shape: (796, 1)\n"
          ]
        }
      ],
      "source": [
        "# split train into train and validation data\n",
        "X_train, X_val, y_train, y_val = train_test_split(X_train_set, y_train_set, train_size=0.8,\n",
        "                                                    test_size=0.2, random_state=2, shuffle=True,\n",
        "                                                    stratify=y_train_set)\n",
        "\n",
        "print(f\"X_train shape: {X_train.shape}\")\n",
        "print(f\"y_train shape: {y_train.shape}\")\n",
        "print(f\"X_val shape: {X_val.shape}\")\n",
        "print(f\"y_val shape: {y_val.shape}\")"
      ]
    },
    {
      "cell_type": "code",
      "execution_count": null,
      "metadata": {
        "colab": {
          "base_uri": "https://localhost:8080/"
        },
        "id": "nDlDMPXQp0nN",
        "outputId": "2440b5f5-247c-4abd-e740-c6b122f24c40"
      },
      "outputs": [
        {
          "output_type": "stream",
          "name": "stdout",
          "text": [
            "y_val Class Distribution: \n",
            "[[  0 696]\n",
            " [  1  50]\n",
            " [  2  50]]\n"
          ]
        }
      ],
      "source": [
        "import numpy as np\n",
        "unique, counts = np.unique(y_val, return_counts=True)\n",
        "print(\"y_val Class Distribution: \")\n",
        "print(np.asarray((unique, counts)).T)"
      ]
    },
    {
      "cell_type": "code",
      "execution_count": null,
      "metadata": {
        "colab": {
          "base_uri": "https://localhost:8080/"
        },
        "id": "gE2rgnS2Ko1-",
        "outputId": "88c63c9d-d825-4bdb-de1e-8f541e015389"
      },
      "outputs": [
        {
          "output_type": "stream",
          "name": "stdout",
          "text": [
            "y_train Class Distribution: \n",
            "[[   0 2781]\n",
            " [   1  199]\n",
            " [   2  200]]\n"
          ]
        }
      ],
      "source": [
        "import numpy as np\n",
        "unique, counts = np.unique(y_train, return_counts=True)\n",
        "print(\"y_train Class Distribution: \")\n",
        "print(np.asarray((unique, counts)).T)"
      ]
    },
    {
      "cell_type": "markdown",
      "metadata": {
        "id": "4-_q9tGWKvfQ"
      },
      "source": [
        "# Setup Test Input Images (Normalizing + Encoding)"
      ]
    },
    {
      "cell_type": "code",
      "execution_count": null,
      "metadata": {
        "colab": {
          "base_uri": "https://localhost:8080/",
          "height": 35
        },
        "id": "ZC_PyIUg-S6d",
        "outputId": "47551e68-15bf-4655-f8dd-585a2c6bfdcf"
      },
      "outputs": [
        {
          "output_type": "execute_result",
          "data": {
            "text/plain": [
              "'\\n0 -> [1, 0, 0]\\n1 -> [0, 1, 0]\\n2 -> [0, 0, 1]\\n'"
            ],
            "application/vnd.google.colaboratory.intrinsic+json": {
              "type": "string"
            }
          },
          "metadata": {},
          "execution_count": 171
        }
      ],
      "source": [
        "from sklearn.feature_selection import SelectKBest, f_classif\n",
        "from sklearn.preprocessing import MinMaxScaler, OneHotEncoder\n",
        "\n",
        "# min max scalar\n",
        "MM_SCALER = MinMaxScaler(feature_range=(-1, 1))\n",
        "\n",
        "# One Hot Encode Labels\n",
        "\"\"\"\n",
        "0 -> [1, 0, 0]\n",
        "1 -> [0, 1, 0]\n",
        "2 -> [0, 0, 1]\n",
        "\"\"\""
      ]
    },
    {
      "cell_type": "markdown",
      "metadata": {
        "id": "piY-_WRgC8_T"
      },
      "source": [
        "###Normalize Data"
      ]
    },
    {
      "cell_type": "code",
      "execution_count": null,
      "metadata": {
        "id": "SNZSAdE0_ahW"
      },
      "outputs": [],
      "source": [
        "X_train = MM_SCALER.fit_transform(X_train)\n",
        "X_val = MM_SCALER.transform(X_val)\n",
        "X_test = MM_SCALER.transform(X_test)"
      ]
    },
    {
      "cell_type": "markdown",
      "metadata": {
        "id": "shyt39BRC_7l"
      },
      "source": [
        "###Reshape Data into 15x15 Images"
      ]
    },
    {
      "cell_type": "code",
      "execution_count": null,
      "metadata": {
        "colab": {
          "base_uri": "https://localhost:8080/"
        },
        "id": "D5hK0Qsm_gMI",
        "outputId": "115de307-7ec8-4b64-90aa-0b1745cd4ade"
      },
      "outputs": [
        {
          "output_type": "stream",
          "name": "stdout",
          "text": [
            "X_train Images shape: (3180, 15, 15)\n",
            "X_val Images shape: (796, 15, 15)\n",
            "X_test Images shape: (995, 15, 15)\n"
          ]
        }
      ],
      "source": [
        "X_train_images = X_train.reshape(X_train.shape[0], 15, 15)\n",
        "X_val_images = X_val.reshape(X_val.shape[0], 15, 15)\n",
        "X_test_images = X_test.reshape(X_test.shape[0], 15, 15)\n",
        "\n",
        "print(f\"X_train Images shape: {X_train_images.shape}\")\n",
        "print(f\"X_val Images shape: {X_val_images.shape}\")\n",
        "print(f\"X_test Images shape: {X_test_images.shape}\")"
      ]
    },
    {
      "cell_type": "markdown",
      "metadata": {
        "id": "XFccDls12hVY"
      },
      "source": [
        "###Weights for Imbalanced Train Data"
      ]
    },
    {
      "cell_type": "code",
      "execution_count": null,
      "metadata": {
        "id": "QRNSy0o_2l1p"
      },
      "outputs": [],
      "source": [
        "from sklearn.utils.class_weight import compute_class_weight\n",
        "\n",
        "y_integers = np.argmax(y_train, axis=1) # compute_class_weight needs int labels\n",
        "class_weights = compute_class_weight(class_weight='balanced', classes=np.unique(y_integers), y=y_integers)\n",
        "d_class_weights = dict(enumerate(class_weights))\n",
        "\n",
        "# y_integers = np.argmax(y_train, axis=1)  # compute_class_weight needs int labels\n",
        "# class_weights = compute_class_weight(class_weight='balanced', classes=np.unique(y_integers), y=y_integers)\n",
        "# sample_weights = y_integers.copy().astype(float)\n",
        "# for i in np.unique(y_integers):\n",
        "#   sample_weights[sample_weights == i] = class_weights[i]\n"
      ]
    },
    {
      "cell_type": "markdown",
      "source": [],
      "metadata": {
        "id": "tc_vAq83534G"
      }
    },
    {
      "cell_type": "markdown",
      "metadata": {
        "id": "nN4gqpiBDFb5"
      },
      "source": [
        "###Encode Labels"
      ]
    },
    {
      "cell_type": "code",
      "execution_count": null,
      "metadata": {
        "colab": {
          "base_uri": "https://localhost:8080/"
        },
        "id": "XqkTmyqQ8qn3",
        "outputId": "30d7e7f6-341a-491f-b48c-0688042067c9"
      },
      "outputs": [
        {
          "output_type": "stream",
          "name": "stderr",
          "text": [
            "/usr/local/lib/python3.10/dist-packages/sklearn/preprocessing/_encoders.py:868: FutureWarning: `sparse` was renamed to `sparse_output` in version 1.2 and will be removed in 1.4. `sparse_output` is ignored unless you leave `sparse` to its default value.\n",
            "  warnings.warn(\n"
          ]
        },
        {
          "output_type": "execute_result",
          "data": {
            "text/plain": [
              "(3180, 3)"
            ]
          },
          "metadata": {},
          "execution_count": 175
        }
      ],
      "source": [
        "OHE = OneHotEncoder(sparse=False, categories='auto')\n",
        "\n",
        "y_train = OHE.fit_transform(y_train.reshape(-1, 1)) # Reshapes to a column vector\n",
        "y_val = OHE.transform(y_val.reshape(-1, 1))\n",
        "y_test = OHE.transform(y_test.reshape(-1, 1))\n",
        "\n",
        "y_train.shape"
      ]
    },
    {
      "cell_type": "code",
      "execution_count": null,
      "metadata": {
        "colab": {
          "base_uri": "https://localhost:8080/"
        },
        "id": "Rpetb-kl_NTO",
        "outputId": "cedd9c7c-c299-42a2-e27d-d478f26ff569"
      },
      "outputs": [
        {
          "output_type": "stream",
          "name": "stdout",
          "text": [
            "X_train Images shape: (3180, 15, 15)\n",
            "y_train labels shape: (3180, 3)\n",
            "\n",
            "X_val Images shape: (796, 15, 15)\n",
            "y_val labels shape: (796, 3)\n",
            "\n",
            "X_test Images shape: (995, 15, 15)\n",
            "y_test labels shape: (995, 3)\n",
            "\n"
          ]
        }
      ],
      "source": [
        "print(f\"X_train Images shape: {X_train_images.shape}\")\n",
        "print(f\"y_train labels shape: {y_train.shape}\\n\")\n",
        "\n",
        "print(f\"X_val Images shape: {X_val_images.shape}\")\n",
        "print(f\"y_val labels shape: {y_val.shape}\\n\")\n",
        "\n",
        "print(f\"X_test Images shape: {X_test_images.shape}\")\n",
        "print(f\"y_test labels shape: {y_test.shape}\\n\")"
      ]
    },
    {
      "cell_type": "markdown",
      "metadata": {
        "id": "CNRBdqU2F8K3"
      },
      "source": [
        "#CNN"
      ]
    },
    {
      "cell_type": "markdown",
      "metadata": {
        "id": "urww_XpsE2hg"
      },
      "source": [
        "###CNN Implementation"
      ]
    },
    {
      "cell_type": "code",
      "execution_count": null,
      "metadata": {
        "colab": {
          "base_uri": "https://localhost:8080/"
        },
        "id": "NOsZVNF3E7p5",
        "outputId": "c42035da-7518-49e5-d01d-4b63c1dba8a7"
      },
      "outputs": [
        {
          "output_type": "stream",
          "name": "stdout",
          "text": [
            "Requirement already satisfied: h5py in /usr/local/lib/python3.10/dist-packages (3.9.0)\n",
            "Requirement already satisfied: numpy>=1.17.3 in /usr/local/lib/python3.10/dist-packages (from h5py) (1.25.2)\n"
          ]
        }
      ],
      "source": [
        "import keras\n",
        "from keras.models import Sequential\n",
        "from keras.layers import Dense, Dropout, Activation, Flatten\n",
        "from keras.layers import Conv2D, MaxPooling2D\n",
        "\n",
        "!pip install h5py\n",
        "\n",
        "params = {\n",
        "    \"input_w\": 15,\n",
        "    \"input_h\": 15,\n",
        "    \"input_c\": 1,\n",
        "    \"num_classes\": 3,\n",
        "    \"batch_size\": 1024,\n",
        "    \"epochs\": 1000\n",
        "    }"
      ]
    },
    {
      "cell_type": "code",
      "execution_count": null,
      "metadata": {
        "id": "XYy2LGUjE9Pc"
      },
      "outputs": [],
      "source": [
        "# CNN model\n",
        "model = Sequential()\n",
        "model.add(Conv2D(32, (3, 3), activation='relu', input_shape=(params[\"input_w\"], params[\"input_h\"], params[\"input_c\"])))\n",
        "model.add(Conv2D(64, (3, 3), activation='relu'))\n",
        "model.add(MaxPooling2D(pool_size=(2, 2)))\n",
        "model.add(Dropout(0.25))\n",
        "model.add(Flatten())\n",
        "model.add(Dense(128, activation='relu'))\n",
        "model.add(Dropout(0.5))\n",
        "model.add(Dense(params[\"num_classes\"], activation='softmax'))\n",
        "model.compile(loss=keras.losses.categorical_crossentropy,\n",
        "              optimizer=keras.optimizers.Adadelta(),\n",
        "              metrics=['accuracy', 'mae', 'mse'])"
      ]
    },
    {
      "cell_type": "markdown",
      "metadata": {
        "id": "B8MhU01rF2uJ"
      },
      "source": [
        "###Model Checkpoint Callbacks"
      ]
    },
    {
      "cell_type": "code",
      "execution_count": null,
      "metadata": {
        "id": "yePB07frF1z0"
      },
      "outputs": [],
      "source": [
        "import os\n",
        "from tensorflow.keras.callbacks import ModelCheckpoint, EarlyStopping, ReduceLROnPlateau, CSVLogger, Callback\n",
        "\n",
        "best_model_path = \"data/4_best_model_keras.h5\"\n",
        "es = EarlyStopping(monitor='val_accuracy', mode='min', verbose=1,\n",
        "                   patience=100, min_delta=0.0001) # Stops the training early when validation loss stops improving, prevent overfitting\n",
        "\n",
        "rlp = ReduceLROnPlateau(monitor='val_loss', factor=0.02, patience=20, verbose=1, mode='min',\n",
        "                        min_delta=0.001, cooldown=1, min_lr=0.0001) # Adjusts Learning Rate on validation loss\n",
        "\n",
        "mcp = ModelCheckpoint(best_model_path, monitor='val_accuracy', verbose=1,\n",
        "                      save_best_only=True, save_weights_only=False, mode='max', save_freq=\"epoch\")  # val_f1_metric"
      ]
    },
    {
      "cell_type": "markdown",
      "metadata": {
        "id": "A0fhG2zSEP3g"
      },
      "source": [
        "###Train CNN"
      ]
    },
    {
      "cell_type": "code",
      "execution_count": null,
      "metadata": {
        "id": "Wu1kIlt7Ed44"
      },
      "outputs": [],
      "source": [
        "# reshape input images to include a single channel to fit CNN Sequential Layer\n",
        "X_train_images = np.expand_dims(X_train_images, axis=-1)\n",
        "X_val_images = np.expand_dims(X_val_images, axis=-1)\n",
        "X_test_images = np.expand_dims(X_test_images, axis=-1)"
      ]
    },
    {
      "cell_type": "code",
      "execution_count": null,
      "metadata": {
        "colab": {
          "base_uri": "https://localhost:8080/"
        },
        "id": "fsFXZz1-ElNr",
        "outputId": "8c036084-6866-47ab-ebb4-39df0ef03568"
      },
      "outputs": [
        {
          "output_type": "stream",
          "name": "stdout",
          "text": [
            "X_train Images shape: (3180, 15, 15, 1)\n",
            "y_train labels shape: (3180, 3)\n",
            "\n",
            "X_val Images shape: (796, 15, 15, 1)\n",
            "y_val labels shape: (796, 3)\n",
            "\n",
            "X_test Images shape: (995, 15, 15, 1)\n",
            "y_test labels shape: (995, 3)\n",
            "\n"
          ]
        }
      ],
      "source": [
        "print(f\"X_train Images shape: {X_train_images.shape}\")\n",
        "print(f\"y_train labels shape: {y_train.shape}\\n\")\n",
        "\n",
        "print(f\"X_val Images shape: {X_val_images.shape}\")\n",
        "print(f\"y_val labels shape: {y_val.shape}\\n\")\n",
        "\n",
        "print(f\"X_test Images shape: {X_test_images.shape}\")\n",
        "print(f\"y_test labels shape: {y_test.shape}\\n\")"
      ]
    },
    {
      "cell_type": "code",
      "execution_count": null,
      "metadata": {
        "colab": {
          "base_uri": "https://localhost:8080/",
          "height": 490
        },
        "id": "rjfl1807FTw1",
        "outputId": "8c1a4e0d-ffa6-46a1-f98d-29566a5b6c2d"
      },
      "outputs": [
        {
          "output_type": "stream",
          "name": "stdout",
          "text": [
            "Epoch 1/1000\n"
          ]
        },
        {
          "output_type": "error",
          "ename": "InvalidArgumentError",
          "evalue": "Graph execution error:\n\nDetected at node GatherV2 defined at (most recent call last):\n<stack traces unavailable>\nindices[19] = 2 is not in [0, 1)\n\t [[{{node GatherV2}}]]\n\t [[IteratorGetNext]] [Op:__inference_train_function_92665]",
          "traceback": [
            "\u001b[0;31m---------------------------------------------------------------------------\u001b[0m",
            "\u001b[0;31mInvalidArgumentError\u001b[0m                      Traceback (most recent call last)",
            "\u001b[0;32m<ipython-input-182-9d3cdb9ffd29>\u001b[0m in \u001b[0;36m<cell line: 2>\u001b[0;34m()\u001b[0m\n\u001b[1;32m      1\u001b[0m \u001b[0;31m# train CNN\u001b[0m\u001b[0;34m\u001b[0m\u001b[0;34m\u001b[0m\u001b[0m\n\u001b[0;32m----> 2\u001b[0;31m hist = model.fit(X_train_images, y_train,\n\u001b[0m\u001b[1;32m      3\u001b[0m           \u001b[0mbatch_size\u001b[0m\u001b[0;34m=\u001b[0m\u001b[0mparams\u001b[0m\u001b[0;34m[\u001b[0m\u001b[0;34m\"batch_size\"\u001b[0m\u001b[0;34m]\u001b[0m\u001b[0;34m,\u001b[0m\u001b[0;34m\u001b[0m\u001b[0;34m\u001b[0m\u001b[0m\n\u001b[1;32m      4\u001b[0m           \u001b[0mepochs\u001b[0m\u001b[0;34m=\u001b[0m\u001b[0mparams\u001b[0m\u001b[0;34m[\u001b[0m\u001b[0;34m\"epochs\"\u001b[0m\u001b[0;34m]\u001b[0m\u001b[0;34m,\u001b[0m\u001b[0;34m\u001b[0m\u001b[0;34m\u001b[0m\u001b[0m\n\u001b[1;32m      5\u001b[0m           \u001b[0mcallbacks\u001b[0m\u001b[0;34m=\u001b[0m\u001b[0;34m[\u001b[0m\u001b[0mmcp\u001b[0m\u001b[0;34m,\u001b[0m \u001b[0mrlp\u001b[0m\u001b[0;34m]\u001b[0m\u001b[0;34m,\u001b[0m\u001b[0;34m\u001b[0m\u001b[0;34m\u001b[0m\u001b[0m\n",
            "\u001b[0;32m/usr/local/lib/python3.10/dist-packages/keras/src/utils/traceback_utils.py\u001b[0m in \u001b[0;36merror_handler\u001b[0;34m(*args, **kwargs)\u001b[0m\n\u001b[1;32m     68\u001b[0m             \u001b[0;31m# To get the full stack trace, call:\u001b[0m\u001b[0;34m\u001b[0m\u001b[0;34m\u001b[0m\u001b[0m\n\u001b[1;32m     69\u001b[0m             \u001b[0;31m# `tf.debugging.disable_traceback_filtering()`\u001b[0m\u001b[0;34m\u001b[0m\u001b[0;34m\u001b[0m\u001b[0m\n\u001b[0;32m---> 70\u001b[0;31m             \u001b[0;32mraise\u001b[0m \u001b[0me\u001b[0m\u001b[0;34m.\u001b[0m\u001b[0mwith_traceback\u001b[0m\u001b[0;34m(\u001b[0m\u001b[0mfiltered_tb\u001b[0m\u001b[0;34m)\u001b[0m \u001b[0;32mfrom\u001b[0m \u001b[0;32mNone\u001b[0m\u001b[0;34m\u001b[0m\u001b[0;34m\u001b[0m\u001b[0m\n\u001b[0m\u001b[1;32m     71\u001b[0m         \u001b[0;32mfinally\u001b[0m\u001b[0;34m:\u001b[0m\u001b[0;34m\u001b[0m\u001b[0;34m\u001b[0m\u001b[0m\n\u001b[1;32m     72\u001b[0m             \u001b[0;32mdel\u001b[0m \u001b[0mfiltered_tb\u001b[0m\u001b[0;34m\u001b[0m\u001b[0;34m\u001b[0m\u001b[0m\n",
            "\u001b[0;32m/usr/local/lib/python3.10/dist-packages/tensorflow/python/eager/execute.py\u001b[0m in \u001b[0;36mquick_execute\u001b[0;34m(op_name, num_outputs, inputs, attrs, ctx, name)\u001b[0m\n\u001b[1;32m     51\u001b[0m   \u001b[0;32mtry\u001b[0m\u001b[0;34m:\u001b[0m\u001b[0;34m\u001b[0m\u001b[0;34m\u001b[0m\u001b[0m\n\u001b[1;32m     52\u001b[0m     \u001b[0mctx\u001b[0m\u001b[0;34m.\u001b[0m\u001b[0mensure_initialized\u001b[0m\u001b[0;34m(\u001b[0m\u001b[0;34m)\u001b[0m\u001b[0;34m\u001b[0m\u001b[0;34m\u001b[0m\u001b[0m\n\u001b[0;32m---> 53\u001b[0;31m     tensors = pywrap_tfe.TFE_Py_Execute(ctx._handle, device_name, op_name,\n\u001b[0m\u001b[1;32m     54\u001b[0m                                         inputs, attrs, num_outputs)\n\u001b[1;32m     55\u001b[0m   \u001b[0;32mexcept\u001b[0m \u001b[0mcore\u001b[0m\u001b[0;34m.\u001b[0m\u001b[0m_NotOkStatusException\u001b[0m \u001b[0;32mas\u001b[0m \u001b[0me\u001b[0m\u001b[0;34m:\u001b[0m\u001b[0;34m\u001b[0m\u001b[0;34m\u001b[0m\u001b[0m\n",
            "\u001b[0;31mInvalidArgumentError\u001b[0m: Graph execution error:\n\nDetected at node GatherV2 defined at (most recent call last):\n<stack traces unavailable>\nindices[19] = 2 is not in [0, 1)\n\t [[{{node GatherV2}}]]\n\t [[IteratorGetNext]] [Op:__inference_train_function_92665]"
          ]
        }
      ],
      "source": [
        "# train CNN\n",
        "hist = model.fit(X_train_images, y_train,\n",
        "          batch_size=params[\"batch_size\"],\n",
        "          epochs=params[\"epochs\"],\n",
        "          callbacks=[mcp, rlp],\n",
        "          validation_data=(X_val_images, y_val),\n",
        "          class_weight=d_class_weights,\n",
        "          verbose=2)"
      ]
    },
    {
      "cell_type": "markdown",
      "metadata": {
        "id": "5xuHbJlZKHKP"
      },
      "source": [
        "###Model Evaluation"
      ]
    },
    {
      "cell_type": "code",
      "execution_count": null,
      "metadata": {
        "colab": {
          "base_uri": "https://localhost:8080/",
          "height": 508
        },
        "id": "IpItXRXEKMDh",
        "outputId": "8623d6a7-47e5-45f7-9e16-1f026ed664ac"
      },
      "outputs": [
        {
          "output_type": "display_data",
          "data": {
            "text/plain": [
              "<Figure size 640x480 with 1 Axes>"
            ],
            "image/png": "[encoded data removed]"
          },
          "metadata": {}
        },
        {
          "output_type": "stream",
          "name": "stdout",
          "text": [
            "Model Accuracy: 0.6003144383430481\n",
            "Model Validation Loss: 1.0294069051742554\n"
          ]
        }
      ],
      "source": [
        "from matplotlib import pyplot as plt\n",
        "%matplotlib inline\n",
        "\n",
        "plt.figure()\n",
        "\n",
        "plt.plot(hist.history['val_loss'])\n",
        "plt.plot(hist.history['accuracy'])\n",
        "\n",
        "plt.title(f'Model Loss and Accuracy')\n",
        "plt.xlabel('Epoch')\n",
        "plt.legend(['val_loss', 'accuracy'], loc='upper left')\n",
        "\n",
        "plt.show()\n",
        "\n",
        "print(\"Model Accuracy:\", hist.history['accuracy'][999])\n",
        "print(\"Model Validation Loss:\", hist.history['val_loss'][999])"
      ]
    },
    {
      "cell_type": "markdown",
      "metadata": {
        "id": "c0aYnVRiM9K7"
      },
      "source": [
        "###Test CNN"
      ]
    },
    {
      "cell_type": "code",
      "execution_count": null,
      "metadata": {
        "colab": {
          "base_uri": "https://localhost:8080/"
        },
        "id": "Alml5e7VND8y",
        "outputId": "c455492f-ea9b-4b72-9264-30a88164743c"
      },
      "outputs": [
        {
          "name": "stdout",
          "output_type": "stream",
          "text": [
            "32/32 [==============================] - 0s 6ms/step\n",
            "[[498  49 323]\n",
            " [ 56   2   5]\n",
            " [ 18   1  43]]\n",
            "              precision    recall  f1-score   support\n",
            "\n",
            "           0       0.87      0.57      0.69       870\n",
            "           1       0.04      0.03      0.03        63\n",
            "           2       0.12      0.69      0.20        62\n",
            "\n",
            "    accuracy                           0.55       995\n",
            "   macro avg       0.34      0.43      0.31       995\n",
            "weighted avg       0.77      0.55      0.62       995\n",
            "\n"
          ]
        }
      ],
      "source": [
        "from sklearn.metrics import classification_report, confusion_matrix\n",
        "\n",
        "# use model to make predictions on test data\n",
        "y_predict = model.predict(X_test_images)\n",
        "y_predict = np.argmax(y_predict, axis=1)\n",
        "y_true = np.argmax(y_test, axis=0)\n",
        "\n",
        "rounded_labels = np.argmax(y_test, axis=1) # convert label to single-digit\n",
        "\n",
        "cm = confusion_matrix(rounded_labels, y_predict)\n",
        "print(cm)\n",
        "print(classification_report(rounded_labels, y_predict))\n"
      ]
    }
  ],
  "metadata": {
    "accelerator": "TPU",
    "colab": {
      "toc_visible": true,
      "provenance": [],
      "gpuType": "V28"
    },
    "kernelspec": {
      "display_name": "Python 3",
      "name": "python3"
    },
    "language_info": {
      "name": "python"
    }
  },
  "nbformat": 4,
  "nbformat_minor": 0
}